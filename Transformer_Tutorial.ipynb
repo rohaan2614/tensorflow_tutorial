{
  "nbformat": 4,
  "nbformat_minor": 0,
  "metadata": {
    "colab": {
      "provenance": [],
      "gpuType": "T4",
      "authorship_tag": "ABX9TyPYTBB26sfvVwnftRSEeU+x",
      "include_colab_link": true
    },
    "kernelspec": {
      "name": "python3",
      "display_name": "Python 3"
    },
    "language_info": {
      "name": "python"
    },
    "accelerator": "GPU"
  },
  "cells": [
    {
      "cell_type": "markdown",
      "metadata": {
        "id": "view-in-github",
        "colab_type": "text"
      },
      "source": [
        "<a href=\"https://colab.research.google.com/github/rohaan2614/tensorflow_tutorial/blob/master/Transformer_Tutorial.ipynb\" target=\"_parent\"><img src=\"https://colab.research.google.com/assets/colab-badge.svg\" alt=\"Open In Colab\"/></a>"
      ]
    },
    {
      "cell_type": "markdown",
      "source": [
        "## Pre-reqs"
      ],
      "metadata": {
        "id": "i6BLzmHpXjLf"
      }
    },
    {
      "cell_type": "code",
      "source": [
        "import tensorflow as tf\n",
        "print(\"TF Version: \", tf.__version__)\n",
        "tf.config.list_physical_devices(device_type=\"GPU\")\n",
        "# print(\"Hardware: \", )"
      ],
      "metadata": {
        "colab": {
          "base_uri": "https://localhost:8080/"
        },
        "id": "4COb6DI8kXc9",
        "outputId": "be3d535a-52f2-4eec-f313-e86b63663db0"
      },
      "execution_count": 8,
      "outputs": [
        {
          "output_type": "stream",
          "name": "stdout",
          "text": [
            "TF Version:  2.15.0\n"
          ]
        },
        {
          "output_type": "execute_result",
          "data": {
            "text/plain": [
              "1"
            ]
          },
          "metadata": {},
          "execution_count": 8
        }
      ]
    },
    {
      "cell_type": "code",
      "source": [
        "from tensorflow import keras\n",
        "print(keras.__version__)"
      ],
      "metadata": {
        "id": "Rd4PaCo9jEvs"
      },
      "execution_count": null,
      "outputs": []
    },
    {
      "cell_type": "code",
      "source": [
        "!apt-get update"
      ],
      "metadata": {
        "id": "27-u-MrQcr1w"
      },
      "execution_count": null,
      "outputs": []
    },
    {
      "cell_type": "code",
      "source": [
        "!apt-get install libcudnn8 --allow-change-held-packages"
      ],
      "metadata": {
        "id": "t56gNWiOdVAI"
      },
      "execution_count": null,
      "outputs": []
    },
    {
      "cell_type": "code",
      "source": [
        "!pip uninstall -y -q tensorflow keras tensorflow-estimator tensorflow-text"
      ],
      "metadata": {
        "id": "GwCVbObwdbjI"
      },
      "execution_count": null,
      "outputs": []
    },
    {
      "cell_type": "code",
      "source": [
        "!pip install protobuf~=3.20.3"
      ],
      "metadata": {
        "id": "bO1hDkMpejpo"
      },
      "execution_count": null,
      "outputs": []
    },
    {
      "cell_type": "code",
      "source": [
        "!pip install -q tensorflow_datasets"
      ],
      "metadata": {
        "id": "IBQaISH_fqYJ"
      },
      "execution_count": null,
      "outputs": []
    },
    {
      "cell_type": "code",
      "source": [
        "!pip install -q -U tensorflow-text tensorflow"
      ],
      "metadata": {
        "id": "cgx8V6BEfuTs"
      },
      "execution_count": null,
      "outputs": []
    },
    {
      "cell_type": "code",
      "source": [],
      "metadata": {
        "id": "6sne17RWi3Ff"
      },
      "execution_count": null,
      "outputs": []
    },
    {
      "cell_type": "markdown",
      "source": [
        "## Initial load of data & required libraries"
      ],
      "metadata": {
        "id": "yxhtrViwiRzm"
      }
    },
    {
      "cell_type": "code",
      "source": [
        "# specify the data file name and url\n",
        "url = 'https://archive.ics.uci.edu/ml/machine-learning-databases/00240/'\n",
        "datafile = url + 'UCI%20HAR%20Dataset.zip'\n",
        "\n",
        "# download the zip file from the web server using curl\n",
        "!curl $datafile --output UCI_HAR_Dataset.zip\n",
        "\n",
        "# unzip the file\n",
        "!unzip -qq UCI_HAR_Dataset.zip\n",
        "\n",
        "# change the directory name to remove spaces\n",
        "!mv -f UCI\\ HAR\\ Dataset UCI_HAR_DATASET"
      ],
      "metadata": {
        "id": "ATyC0uioiFFo"
      },
      "execution_count": null,
      "outputs": []
    },
    {
      "cell_type": "code",
      "source": [
        "# load required libraries\n",
        "import numpy as np\n",
        "import pandas as pd\n",
        "import matplotlib.pyplot as plt\n",
        "import tensorflow as tf\n",
        "import random\n",
        "from sklearn.model_selection import train_test_split"
      ],
      "metadata": {
        "id": "Yt6P03mbiVbr"
      },
      "execution_count": null,
      "outputs": []
    },
    {
      "cell_type": "code",
      "source": [
        "# TRAIN DATA - BODY ONLY\n",
        "# load the data for X,Y and Z coordinates for training data\n",
        "xx=np.loadtxt('/content/UCI_HAR_DATASET/train/Inertial Signals/body_acc_x_train.txt').astype(np.float32)\n",
        "yy=np.loadtxt('/content/UCI_HAR_DATASET/train/Inertial Signals/body_acc_y_train.txt').astype(np.float32)\n",
        "zz=np.loadtxt('/content/UCI_HAR_DATASET/train/Inertial Signals/body_acc_z_train.txt').astype(np.float32)\n",
        "\n",
        "# concatenate the arrays along the last dimension\n",
        "# (using None here adds an extra dimension of size 1 to the end of the array)\n",
        "x_train_body_only = np.concatenate((xx[:,:,None],yy[:,:,None],zz[:,:,None]),axis=2)\n",
        "print('shape x_train_body_only: ',x_train_body_only.shape)\n",
        "\n",
        "# TEST DATA - BODY ONLY\n",
        "# load the data for X,Y and Z coordinates for test data\n",
        "xx=np.loadtxt('/content/UCI_HAR_DATASET/test/Inertial Signals/body_acc_x_test.txt').astype(np.float32)\n",
        "yy=np.loadtxt('/content/UCI_HAR_DATASET/test/Inertial Signals/body_acc_y_test.txt').astype(np.float32)\n",
        "zz=np.loadtxt('/content/UCI_HAR_DATASET/test/Inertial Signals/body_acc_z_test.txt').astype(np.float32)\n",
        "\n",
        "# concatenate the arrays along the last dimension\n",
        "# (using None here adds an extra dimension of size 1 to the end of the array)\n",
        "x_test_body_only = np.concatenate((xx[:,:,None],yy[:,:,None],zz[:,:,None]),axis=2)\n",
        "print('shape x_test_body_only: ',x_test_body_only.shape)\n",
        "\n",
        "# TRAIN data - RESPONSE\n",
        "y_train = np.loadtxt('UCI_HAR_DATASET/train/y_train.txt').astype(np.float32)-1\n",
        "print('shape y_train: ',y_train.shape)\n",
        "\n",
        "# TEST data - RESPONSE\n",
        "y_test = np.loadtxt('UCI_HAR_DATASET/test/y_test.txt').astype(np.float32)-1\n",
        "print('shape y_test: ',y_test.shape)"
      ],
      "metadata": {
        "id": "YqQj1CiGicaB"
      },
      "execution_count": null,
      "outputs": []
    },
    {
      "cell_type": "code",
      "source": [
        "# one hot encoding for six categories:\n",
        "y_train_enc  = tf.keras.utils.to_categorical(y_train)\n",
        "\n",
        "print('shape y_train after one hot enc.: ',y_train_enc.shape)"
      ],
      "metadata": {
        "id": "hYHjSnZ7ijrn"
      },
      "execution_count": null,
      "outputs": []
    },
    {
      "cell_type": "markdown",
      "source": [
        "## Plot some example time series"
      ],
      "metadata": {
        "id": "USHIn-DHiscT"
      }
    },
    {
      "cell_type": "code",
      "source": [],
      "metadata": {
        "id": "hkWCH1Ojity-"
      },
      "execution_count": null,
      "outputs": []
    }
  ]
}